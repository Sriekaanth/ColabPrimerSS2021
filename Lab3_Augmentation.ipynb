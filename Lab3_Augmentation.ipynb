{
  "nbformat": 4,
  "nbformat_minor": 0,
  "metadata": {
    "colab": {
      "name": "Lab3_Augmentation.ipynb",
      "provenance": [],
      "collapsed_sections": [],
      "include_colab_link": true
    },
    "kernelspec": {
      "name": "python3",
      "display_name": "Python 3"
    },
    "language_info": {
      "name": "python"
    }
  },
  "cells": [
    {
      "cell_type": "markdown",
      "metadata": {
        "id": "view-in-github",
        "colab_type": "text"
      },
      "source": [
        "<a href=\"https://colab.research.google.com/github/Sriekaanth/ColabPrimerSS2021/blob/main/Lab3_Augmentation.ipynb\" target=\"_parent\"><img src=\"https://colab.research.google.com/assets/colab-badge.svg\" alt=\"Open In Colab\"/></a>"
      ]
    },
    {
      "cell_type": "markdown",
      "metadata": {
        "id": "w3yfry25JgZK"
      },
      "source": [
        "# Data augmentation\n",
        "\n",
        "FMML Module 1, Lab 3<br>\n",
        " Module Coordinator: Thrupthi Ann John thrupthi.ann@research.iiit.ac.in <br>\n",
        " Release date: 18 October 2021 <br>\n",
        "\n",
        " In this lab, we will see how augmentation of data samples help in improving the machine learning performance"
      ]
    },
    {
      "cell_type": "code",
      "metadata": {
        "id": "xZU8_elooqP0"
      },
      "source": [
        "import numpy as np\n",
        "import matplotlib.pyplot as plt\n",
        "from keras.datasets import mnist\n",
        "# set randomseed\n",
        "rng = np.random.default_rng(seed=42)\n",
        "from sklearn.utils.extmath import cartesian\n",
        "from skimage.transform import rotate, AffineTransform, warp\n",
        "import math"
      ],
      "execution_count": 1,
      "outputs": []
    },
    {
      "cell_type": "markdown",
      "metadata": {
        "id": "T5pHYogSMHiE"
      },
      "source": [
        "Augmentation is useful when we have less training data available. Augmentation allows us to 'create' a larger dataset programatically. \n",
        "\n",
        "For this lab we will use a subset of MNIST that is very small, to better understand the effect of augmentation. "
      ]
    },
    {
      "cell_type": "code",
      "metadata": {
        "id": "gJvmWJ58ovx5"
      },
      "source": [
        "#loading the dataset\n",
        "(train_X, train_y), (test_X, test_y) = mnist.load_data()\n",
        "train_X = train_X/255\n",
        "test_X = test_X/255\n",
        "\n",
        "train_X = train_X[::1200,:,:].copy() # subsample. Otherwise it will take too long!\n",
        "train_y = train_y[::1200].copy() # do the same to the labels"
      ],
      "execution_count": 4,
      "outputs": []
    },
    {
      "cell_type": "markdown",
      "metadata": {
        "id": "8XamH6z1Rt7S"
      },
      "source": [
        "Let us borrow a few functions from the previous labs:"
      ]
    },
    {
      "cell_type": "code",
      "metadata": {
        "id": "Zk2W5_3BRLMS"
      },
      "source": [
        "def NN1(traindata, trainlabel, query):\n",
        "  diff  = traindata - query  # find the difference between features. Numpy automatically takes care of the size here \n",
        "  sq = diff*diff # square the differences\n",
        "  dist = sq.sum(1) # add up the squares\n",
        "  label = trainlabel[np.argmin(dist)] # our predicted label is the label of the training data which has the least distance from the query\n",
        "  return label\n",
        "\n",
        "def NN(traindata, trainlabel, testdata):\n",
        "  # we will run nearest neighbour for each sample in the test data \n",
        "  # and collect the predicted classes in an array using list comprehension\n",
        "  traindata = traindata.reshape(-1, 28*28)\n",
        "  testdata = testdata.reshape(-1,28*28)\n",
        "  predlabel = np.array([NN1(traindata, trainlabel, i) for i in testdata])\n",
        "  return predlabel\n",
        "\n",
        "def Accuracy(gtlabel, predlabel):\n",
        "  assert len(gtlabel)==len(predlabel), \"Length of the groundtruth labels and predicted labels should be the same\"\n",
        "  correct = (gtlabel==predlabel).sum() # count the number of times the groundtruth label is equal to the predicted label.\n",
        "  return correct/len(gtlabel)"
      ],
      "execution_count": 5,
      "outputs": []
    },
    {
      "cell_type": "markdown",
      "metadata": {
        "id": "eGiA3LmDSJZo"
      },
      "source": [
        "In this lab, we will use the image pixels themselves as features, instead of extracting features. Each image has 28*28 pixels, so we will flatten them to 784 pixels to use as features. Note that this is very compute intensive and will take a long time.<br>\n",
        "\n",
        "Let us check the baseline accuracy on the test set without any augmentations. We hope that adding augmentations will help us to get better results."
      ]
    },
    {
      "cell_type": "code",
      "metadata": {
        "id": "4tQvnoasRNEV",
        "colab": {
          "base_uri": "https://localhost:8080/"
        },
        "outputId": "88a403b2-540f-4e53-8876-8e8728b2d3e6"
      },
      "source": [
        "testpred = NN(train_X, train_y, test_X)\n",
        "print('Baseline accuracy without augmentation is ', Accuracy(test_y, testpred))"
      ],
      "execution_count": 6,
      "outputs": [
        {
          "output_type": "stream",
          "name": "stdout",
          "text": [
            "Baseline accuracy without augmentation is  0.6472\n"
          ]
        }
      ]
    },
    {
      "cell_type": "markdown",
      "metadata": {
        "id": "ZfkcMfhIZQ7U"
      },
      "source": [
        "Let us try to improve this accuracy using augmentations. When we create augmentations, we have to make sure that the changes reflect what will naturally occur in the dataset. For example, we should not add colour to our samples as an augmentation because they do not naturally occur. We should not also flip the images in MNIST, because flipped images have different meanings for digits. \n",
        "\n",
        "### Augmentation 1: rotation\n",
        "\n",
        "Let us try rotating the image a little. We will use skimage library for this. "
      ]
    },
    {
      "cell_type": "code",
      "metadata": {
        "id": "z5WolJ9fZE7L",
        "colab": {
          "base_uri": "https://localhost:8080/",
          "height": 530
        },
        "outputId": "913a4089-8481-4532-c5ef-cdf305c6935e"
      },
      "source": [
        "plt.imshow(train_X[2], cmap='gray')\n",
        "plt.show()\n",
        "plt.imshow(rotate(train_X[2],45), cmap='gray')"
      ],
      "execution_count": 7,
      "outputs": [
        {
          "output_type": "display_data",
          "data": {
            "image/png": "[encoded data removed]",
            "text/plain": [
              "<Figure size 432x288 with 1 Axes>"
            ]
          },
          "metadata": {
            "needs_background": "light"
          }
        },
        {
          "output_type": "execute_result",
          "data": {
            "text/plain": [
              "<matplotlib.image.AxesImage at 0x7f428f6d9f50>"
            ]
          },
          "metadata": {},
          "execution_count": 7
        },
        {
          "output_type": "display_data",
          "data": {
            "image/png": "[encoded data removed]",
            "text/plain": [
              "<Figure size 432x288 with 1 Axes>"
            ]
          },
          "metadata": {
            "needs_background": "light"
          }
        }
      ]
    },
    {
      "cell_type": "markdown",
      "metadata": {
        "id": "KE33Yxgggu0c"
      },
      "source": [
        "After rotating, the the class of the image is still the same. Let us make a function to rotate multiple images by random angles. We want a slightly different image every time we run this function. So, we generate a random number between 0 and 1 and change it so that it lies between -constraint/2 and +constraint/2"
      ]
    },
    {
      "cell_type": "code",
      "metadata": {
        "colab": {
          "base_uri": "https://localhost:8080/",
          "height": 282
        },
        "id": "OezwK-lL87nH",
        "outputId": "ab6d74cb-28c6-4f25-db3a-c94a1133561a"
      },
      "source": [
        "# understanding the sample.shape\n",
        "sample_x=train_X[20]\n",
        "plt.imshow(sample_x,cmap='gray')\n",
        "print(len(sample_x.shape))"
      ],
      "execution_count": 17,
      "outputs": [
        {
          "output_type": "stream",
          "name": "stdout",
          "text": [
            "2\n"
          ]
        },
        {
          "output_type": "display_data",
          "data": {
            "image/png": "[encoded data removed]",
            "text/plain": [
              "<Figure size 432x288 with 1 Axes>"
            ]
          },
          "metadata": {
            "needs_background": "light"
          }
        }
      ]
    },
    {
      "cell_type": "code",
      "metadata": {
        "id": "vyM7pUV7Reze"
      },
      "source": [
        "def augRotate(sample, angleconstraint):\n",
        "  if angleconstraint==0:\n",
        "    return sample\n",
        "  if len(sample.shape)==2:\n",
        "    sample = np.expand_dims(sample, 0)  # make sure the sample is 3 dimensional\n",
        "  angle = rng.random(len(sample)) # generate random numbers for angles\n",
        "  angle = (angle-0.5)*angleconstraint # make the random angle constrained\n",
        "  nsample = sample.copy() # preallocate the augmented array to make it faster\n",
        "  for ii in range(len(sample)):\n",
        "    nsample[ii] = rotate(sample[ii], angle[ii])\n",
        "  return np.squeeze(nsample) # take care if the input had only one sample."
      ],
      "execution_count": 18,
      "outputs": []
    },
    {
      "cell_type": "markdown",
      "metadata": {
        "id": "kDk-N5VNjar9"
      },
      "source": [
        "This function returns a slightly different image each time we call it. So we can increase the number of images in the sample by any multiple. "
      ]
    },
    {
      "cell_type": "code",
      "metadata": {
        "id": "Vw3O9zGFgI8K",
        "colab": {
          "base_uri": "https://localhost:8080/",
          "height": 414
        },
        "outputId": "b44033f0-b82e-4317-ca7d-10d7cebbf3e1"
      },
      "source": [
        "sample = train_X[20]\n",
        "angleconstraint = 70\n",
        "# show the original image\n",
        "plt.imshow(sample, cmap='gray')\n",
        "plt.show()\n",
        "plt.subplot(1,3,1)\n",
        "plt.imshow(augRotate(sample, angleconstraint), cmap='gray') # show an augmented image\n",
        "plt.subplot(1,3,2)\n",
        "plt.imshow(augRotate(sample, angleconstraint), cmap='gray') # show another augmented image from the same sample\n",
        "plt.subplot(1,3,3)\n",
        "plt.imshow(augRotate(sample, angleconstraint), cmap='gray') # one more image from the same sample"
      ],
      "execution_count": 21,
      "outputs": [
        {
          "output_type": "display_data",
          "data": {
            "image/png": "[encoded data removed]",
            "text/plain": [
              "<Figure size 432x288 with 1 Axes>"
            ]
          },
          "metadata": {
            "needs_background": "light"
          }
        },
        {
          "output_type": "execute_result",
          "data": {
            "text/plain": [
              "<matplotlib.image.AxesImage at 0x7f428fc02410>"
            ]
          },
          "metadata": {},
          "execution_count": 21
        },
        {
          "output_type": "display_data",
          "data": {
            "image/png": "[encoded data removed]",
            "text/plain": [
              "<Figure size 432x288 with 3 Axes>"
            ]
          },
          "metadata": {
            "needs_background": "light"
          }
        }
      ]
    },
    {
      "cell_type": "markdown",
      "metadata": {
        "id": "ytv3NxF-kgxN"
      },
      "source": [
        "Let us augment the whole dataset and see if this improves the test accuracy"
      ]
    },
    {
      "cell_type": "code",
      "metadata": {
        "id": "iNzNAoDBkRzj",
        "colab": {
          "base_uri": "https://localhost:8080/"
        },
        "outputId": "40058685-c0b7-4acf-87e0-7bd49f0bfa7e"
      },
      "source": [
        "# hyperparameters\n",
        "angleconstraint = 60\n",
        "naugmentations = 5\n",
        "\n",
        "# augment\n",
        "augdata = train_X # we include the original images also in the augmented dataset\n",
        "auglabel = train_y\n",
        "for ii in range(naugmentations):\n",
        "  augdata = np.concatenate((augdata, augRotate(train_X, angleconstraint))) # concatenate the augmented data to the set\n",
        "  auglabel = np.concatenate((auglabel, train_y))  # the labels don't change when we augment\n",
        "\n",
        "# check the test accuracy\n",
        "testpred = NN(augdata, auglabel, test_X)\n",
        "print('Accuracy after rotation augmentation is ', Accuracy(test_y, testpred))"
      ],
      "execution_count": 22,
      "outputs": [
        {
          "output_type": "stream",
          "name": "stdout",
          "text": [
            "Accuracy after rotation augmentation is  0.6743\n"
          ]
        }
      ]
    },
    {
      "cell_type": "code",
      "metadata": {
        "colab": {
          "base_uri": "https://localhost:8080/",
          "height": 269
        },
        "id": "0NBZUQJ4AvMX",
        "outputId": "b793941c-bd92-40f9-c8c0-93b2912d2f30"
      },
      "source": [
        "l_augdata=(len(augdata))\n",
        "print(l_augdata)\n",
        "nc=l_augdata/30\n",
        "rn=1\n",
        "\n",
        "\n",
        "cnt=0\n",
        "for iimg in augdata:\n",
        "  cnt=cnt+1\n",
        "  plt.subplot(30,nc,cnt)\n",
        "  plt.imshow(iimg,cmap='gray')\n"
      ],
      "execution_count": 32,
      "outputs": [
        {
          "output_type": "display_data",
          "data": {
            "image/png": "[encoded data removed]",
            "text/plain": [
              "<Figure size 432x288 with 300 Axes>"
            ]
          },
          "metadata": {
            "needs_background": "light"
          }
        }
      ]
    },
    {
      "cell_type": "markdown",
      "metadata": {
        "id": "E88Nt9s1p5R6"
      },
      "source": [
        "The angle constraint is a hyperparameter which we have to tune using a validation set. (Here we are not doing that for time constraints). Let us try a grid search to find the best angle constraint."
      ]
    },
    {
      "cell_type": "code",
      "metadata": {
        "colab": {
          "base_uri": "https://localhost:8080/"
        },
        "id": "eTcVY1ELcjmC",
        "outputId": "2ef992c5-ac02-4f82-c550-56b27f61dd01"
      },
      "source": [
        "angleconstraints = [0,10,20,30,40,50,60,70,80,90] # the values we want to test\n",
        "\n",
        "accuracies = np.zeros(len(angleconstraints), dtype=np.float) # we will save the values here\n",
        "\n",
        "for ii in range(len(angleconstraints)):\n",
        "  # create the augmented dataset\n",
        "  augdata = train_X # we include the original images also in the augmented dataset\n",
        "  auglabel = train_y\n",
        "  for jj in range(naugmentations):\n",
        "    augdata = np.concatenate((augdata, augRotate(train_X, angleconstraints[ii]))) # concatenate the augmented data to the set\n",
        "    auglabel = np.concatenate((auglabel, train_y))  # the labels don't change when we augment\n",
        "  # check the test accuracy\n",
        "  testpred = NN(augdata, auglabel, test_X)\n",
        "  accuracies[ii] = Accuracy(test_y, testpred)\n",
        "  print('Accuracy after rotation augmentation constrained by ',angleconstraints[ii], ' is ', accuracies[ii], flush=True)"
      ],
      "execution_count": 61,
      "outputs": [
        {
          "output_type": "stream",
          "name": "stdout",
          "text": [
            "Accuracy after rotation augmentation constrained by  0  is  0.6472\n",
            "Accuracy after rotation augmentation constrained by  10  is  0.6668\n",
            "Accuracy after rotation augmentation constrained by  20  is  0.6797\n",
            "Accuracy after rotation augmentation constrained by  30  is  0.6742\n",
            "Accuracy after rotation augmentation constrained by  40  is  0.6707\n",
            "Accuracy after rotation augmentation constrained by  50  is  0.6708\n",
            "Accuracy after rotation augmentation constrained by  60  is  0.6625\n",
            "Accuracy after rotation augmentation constrained by  70  is  0.6549\n",
            "Accuracy after rotation augmentation constrained by  80  is  0.659\n",
            "Accuracy after rotation augmentation constrained by  90  is  0.6419\n"
          ]
        }
      ]
    },
    {
      "cell_type": "code",
      "metadata": {
        "colab": {
          "base_uri": "https://localhost:8080/",
          "height": 309
        },
        "id": "QKPEPIrKcpGC",
        "outputId": "33ea8b3c-7dfb-4974-bde7-c7cbbde2af91"
      },
      "source": [
        "fig = plt.figure()\n",
        "ax = fig.add_axes([0.1, 0.1, 0.8, 0.8]) # main axes\n",
        "# plot the variation of accuracy\n",
        "ax.plot(angleconstraints, accuracies)\n",
        "ax.set_xlabel('angle')\n",
        "ax.set_ylabel('accuracy')\n",
        "# plot the maximum accuracy\n",
        "maxind = np.argmax(accuracies)\n",
        "plt.scatter(angleconstraints[maxind], accuracies[maxind], c='red')"
      ],
      "execution_count": 62,
      "outputs": [
        {
          "output_type": "execute_result",
          "data": {
            "text/plain": [
              "<matplotlib.collections.PathCollection at 0x7f4287cd4510>"
            ]
          },
          "metadata": {},
          "execution_count": 62
        },
        {
          "output_type": "display_data",
          "data": {
            "image/png": "[encoded data removed]",
            "text/plain": [
              "<Figure size 432x288 with 1 Axes>"
            ]
          },
          "metadata": {
            "needs_background": "light"
          }
        }
      ]
    },
    {
      "cell_type": "code",
      "metadata": {
        "id": "aiaFRLREmGp6",
        "colab": {
          "base_uri": "https://localhost:8080/"
        },
        "outputId": "6f5b67cb-cd2f-4d27-e10b-ee7ee44054d1"
      },
      "source": [
        "#angleconstraints = [0,10,20,30,40,50,60,70,80,90] # the values we want to test\n",
        "\n",
        "angleconstraints = np.arange(15)\n",
        "accuracies = np.zeros(len(angleconstraints), dtype=np.float) # we will save the values here\n",
        "\n",
        "for ii in range(len(angleconstraints)):\n",
        "  # create the augmented dataset\n",
        "  augdata = train_X # we include the original images also in the augmented dataset\n",
        "  auglabel = train_y\n",
        "  for jj in range(naugmentations):\n",
        "    augdata = np.concatenate((augdata, augRotate(train_X, angleconstraints[ii]))) # concatenate the augmented data to the set\n",
        "    auglabel = np.concatenate((auglabel, train_y))  # the labels don't change when we augment\n",
        "  # check the test accuracy\n",
        "  testpred = NN(augdata, auglabel, test_X)\n",
        "  accuracies[ii] = Accuracy(test_y, testpred)\n",
        "  print('Accuracy after rotation augmentation constrained by ',angleconstraints[ii], ' is ', accuracies[ii], flush=True)"
      ],
      "execution_count": 50,
      "outputs": [
        {
          "output_type": "stream",
          "name": "stdout",
          "text": [
            "Accuracy after rotation augmentation constrained by  0  is  0.6472\n",
            "Accuracy after rotation augmentation constrained by  1  is  0.6513\n",
            "Accuracy after rotation augmentation constrained by  2  is  0.6532\n",
            "Accuracy after rotation augmentation constrained by  3  is  0.6568\n",
            "Accuracy after rotation augmentation constrained by  4  is  0.6606\n",
            "Accuracy after rotation augmentation constrained by  5  is  0.6582\n",
            "Accuracy after rotation augmentation constrained by  6  is  0.666\n",
            "Accuracy after rotation augmentation constrained by  7  is  0.6674\n",
            "Accuracy after rotation augmentation constrained by  8  is  0.6717\n",
            "Accuracy after rotation augmentation constrained by  9  is  0.6582\n",
            "Accuracy after rotation augmentation constrained by  10  is  0.6724\n",
            "Accuracy after rotation augmentation constrained by  11  is  0.6707\n",
            "Accuracy after rotation augmentation constrained by  12  is  0.6723\n",
            "Accuracy after rotation augmentation constrained by  13  is  0.6712\n",
            "Accuracy after rotation augmentation constrained by  14  is  0.6684\n"
          ]
        }
      ]
    },
    {
      "cell_type": "markdown",
      "metadata": {
        "id": "2oVDRYP2rxob"
      },
      "source": [
        "Let us see the best value for angle constraint: (Ideally this should be done on validation set, not test set)"
      ]
    },
    {
      "cell_type": "code",
      "metadata": {
        "id": "LqthJa_pmMHz",
        "colab": {
          "base_uri": "https://localhost:8080/",
          "height": 309
        },
        "outputId": "c7068790-0687-45c9-d0c5-3def167d77ac"
      },
      "source": [
        "fig = plt.figure()\n",
        "ax = fig.add_axes([0.1, 0.1, 0.8, 0.8]) # main axes\n",
        "# plot the variation of accuracy\n",
        "ax.plot(angleconstraints, accuracies)\n",
        "ax.set_xlabel('angle')\n",
        "ax.set_ylabel('accuracy')\n",
        "# plot the maximum accuracy\n",
        "maxind = np.argmax(accuracies)\n",
        "plt.scatter(angleconstraints[maxind], accuracies[maxind], c='red')"
      ],
      "execution_count": 51,
      "outputs": [
        {
          "output_type": "execute_result",
          "data": {
            "text/plain": [
              "<matplotlib.collections.PathCollection at 0x7f42875f6950>"
            ]
          },
          "metadata": {},
          "execution_count": 51
        },
        {
          "output_type": "display_data",
          "data": {
            "image/png": "[encoded data removed]",
            "text/plain": [
              "<Figure size 432x288 with 1 Axes>"
            ]
          },
          "metadata": {
            "needs_background": "light"
          }
        }
      ]
    },
    {
      "cell_type": "code",
      "metadata": {
        "colab": {
          "base_uri": "https://localhost:8080/"
        },
        "id": "GdAqtimqYLZq",
        "outputId": "2e5a0ba5-9f90-438f-f298-2b0569e2acdf"
      },
      "source": [
        "#angleconstraints = [0,10,20,30,40,50,60,70,80,90] # the values we want to test\n",
        "\n",
        "angleconstraints = np.arange(15,90)\n",
        "accuracies = np.zeros(len(angleconstraints), dtype=np.float) # we will save the values here\n",
        "\n",
        "for ii in range(len(angleconstraints)):\n",
        "  # create the augmented dataset\n",
        "  augdata = train_X # we include the original images also in the augmented dataset\n",
        "  auglabel = train_y\n",
        "  for jj in range(naugmentations):\n",
        "    augdata = np.concatenate((augdata, augRotate(train_X, angleconstraints[ii]))) # concatenate the augmented data to the set\n",
        "    auglabel = np.concatenate((auglabel, train_y))  # the labels don't change when we augment\n",
        "  # check the test accuracy\n",
        "  testpred = NN(augdata, auglabel, test_X)\n",
        "  accuracies[ii] = Accuracy(test_y, testpred)\n",
        "  print('Accuracy after rotation augmentation constrained by ',angleconstraints[ii], ' is ', accuracies[ii], flush=True)"
      ],
      "execution_count": 54,
      "outputs": [
        {
          "output_type": "stream",
          "name": "stdout",
          "text": [
            "Accuracy after rotation augmentation constrained by  15  is  0.6762\n",
            "Accuracy after rotation augmentation constrained by  16  is  0.6742\n",
            "Accuracy after rotation augmentation constrained by  17  is  0.6823\n",
            "Accuracy after rotation augmentation constrained by  18  is  0.6792\n",
            "Accuracy after rotation augmentation constrained by  19  is  0.679\n",
            "Accuracy after rotation augmentation constrained by  20  is  0.6722\n",
            "Accuracy after rotation augmentation constrained by  21  is  0.6787\n",
            "Accuracy after rotation augmentation constrained by  22  is  0.6704\n",
            "Accuracy after rotation augmentation constrained by  23  is  0.679\n",
            "Accuracy after rotation augmentation constrained by  24  is  0.6769\n",
            "Accuracy after rotation augmentation constrained by  25  is  0.6834\n",
            "Accuracy after rotation augmentation constrained by  26  is  0.6741\n",
            "Accuracy after rotation augmentation constrained by  27  is  0.6788\n",
            "Accuracy after rotation augmentation constrained by  28  is  0.6906\n",
            "Accuracy after rotation augmentation constrained by  29  is  0.6715\n",
            "Accuracy after rotation augmentation constrained by  30  is  0.6823\n",
            "Accuracy after rotation augmentation constrained by  31  is  0.6767\n",
            "Accuracy after rotation augmentation constrained by  32  is  0.6776\n",
            "Accuracy after rotation augmentation constrained by  33  is  0.6877\n",
            "Accuracy after rotation augmentation constrained by  34  is  0.6832\n",
            "Accuracy after rotation augmentation constrained by  35  is  0.6753\n",
            "Accuracy after rotation augmentation constrained by  36  is  0.6757\n",
            "Accuracy after rotation augmentation constrained by  37  is  0.6785\n",
            "Accuracy after rotation augmentation constrained by  38  is  0.6721\n",
            "Accuracy after rotation augmentation constrained by  39  is  0.6834\n",
            "Accuracy after rotation augmentation constrained by  40  is  0.6709\n",
            "Accuracy after rotation augmentation constrained by  41  is  0.6748\n",
            "Accuracy after rotation augmentation constrained by  42  is  0.6759\n",
            "Accuracy after rotation augmentation constrained by  43  is  0.6673\n",
            "Accuracy after rotation augmentation constrained by  44  is  0.6746\n",
            "Accuracy after rotation augmentation constrained by  45  is  0.6662\n",
            "Accuracy after rotation augmentation constrained by  46  is  0.6746\n",
            "Accuracy after rotation augmentation constrained by  47  is  0.6696\n",
            "Accuracy after rotation augmentation constrained by  48  is  0.6756\n",
            "Accuracy after rotation augmentation constrained by  49  is  0.6774\n",
            "Accuracy after rotation augmentation constrained by  50  is  0.6741\n",
            "Accuracy after rotation augmentation constrained by  51  is  0.6733\n",
            "Accuracy after rotation augmentation constrained by  52  is  0.6707\n",
            "Accuracy after rotation augmentation constrained by  53  is  0.6715\n",
            "Accuracy after rotation augmentation constrained by  54  is  0.6717\n",
            "Accuracy after rotation augmentation constrained by  55  is  0.6606\n",
            "Accuracy after rotation augmentation constrained by  56  is  0.6793\n",
            "Accuracy after rotation augmentation constrained by  57  is  0.6676\n",
            "Accuracy after rotation augmentation constrained by  58  is  0.6759\n",
            "Accuracy after rotation augmentation constrained by  59  is  0.6836\n",
            "Accuracy after rotation augmentation constrained by  60  is  0.6644\n",
            "Accuracy after rotation augmentation constrained by  61  is  0.6691\n",
            "Accuracy after rotation augmentation constrained by  62  is  0.666\n",
            "Accuracy after rotation augmentation constrained by  63  is  0.6596\n",
            "Accuracy after rotation augmentation constrained by  64  is  0.6595\n",
            "Accuracy after rotation augmentation constrained by  65  is  0.6746\n",
            "Accuracy after rotation augmentation constrained by  66  is  0.6757\n",
            "Accuracy after rotation augmentation constrained by  67  is  0.6611\n",
            "Accuracy after rotation augmentation constrained by  68  is  0.6636\n",
            "Accuracy after rotation augmentation constrained by  69  is  0.6621\n",
            "Accuracy after rotation augmentation constrained by  70  is  0.6666\n",
            "Accuracy after rotation augmentation constrained by  71  is  0.6363\n",
            "Accuracy after rotation augmentation constrained by  72  is  0.661\n",
            "Accuracy after rotation augmentation constrained by  73  is  0.6636\n",
            "Accuracy after rotation augmentation constrained by  74  is  0.6581\n",
            "Accuracy after rotation augmentation constrained by  75  is  0.6584\n",
            "Accuracy after rotation augmentation constrained by  76  is  0.6546\n",
            "Accuracy after rotation augmentation constrained by  77  is  0.6652\n",
            "Accuracy after rotation augmentation constrained by  78  is  0.6459\n",
            "Accuracy after rotation augmentation constrained by  79  is  0.6545\n",
            "Accuracy after rotation augmentation constrained by  80  is  0.6619\n",
            "Accuracy after rotation augmentation constrained by  81  is  0.6614\n",
            "Accuracy after rotation augmentation constrained by  82  is  0.6595\n",
            "Accuracy after rotation augmentation constrained by  83  is  0.653\n",
            "Accuracy after rotation augmentation constrained by  84  is  0.6304\n",
            "Accuracy after rotation augmentation constrained by  85  is  0.6572\n",
            "Accuracy after rotation augmentation constrained by  86  is  0.6547\n",
            "Accuracy after rotation augmentation constrained by  87  is  0.6582\n",
            "Accuracy after rotation augmentation constrained by  88  is  0.6496\n",
            "Accuracy after rotation augmentation constrained by  89  is  0.6469\n"
          ]
        }
      ]
    },
    {
      "cell_type": "code",
      "metadata": {
        "colab": {
          "base_uri": "https://localhost:8080/",
          "height": 309
        },
        "id": "9Sb7KJNqYQCD",
        "outputId": "bbcad23a-bfd6-413d-df9c-0c4213f8d31b"
      },
      "source": [
        "fig = plt.figure()\n",
        "ax = fig.add_axes([0.1, 0.1, 0.8, 0.8]) # main axes\n",
        "# plot the variation of accuracy\n",
        "ax.plot(angleconstraints, accuracies)\n",
        "ax.set_xlabel('angle')\n",
        "ax.set_ylabel('accuracy')\n",
        "# plot the maximum accuracy\n",
        "maxind = np.argmax(accuracies)\n",
        "plt.scatter(angleconstraints[maxind], accuracies[maxind], c='red')"
      ],
      "execution_count": 55,
      "outputs": [
        {
          "output_type": "execute_result",
          "data": {
            "text/plain": [
              "<matplotlib.collections.PathCollection at 0x7f4287880ad0>"
            ]
          },
          "metadata": {},
          "execution_count": 55
        },
        {
          "output_type": "display_data",
          "data": {
            "image/png": "[encoded data removed]",
            "text/plain": [
              "<Figure size 432x288 with 1 Axes>"
            ]
          },
          "metadata": {
            "needs_background": "light"
          }
        }
      ]
    },
    {
      "cell_type": "markdown",
      "metadata": {
        "id": "eJ8YuVfCuGTj"
      },
      "source": [
        "Let us try one more augmentation: shear. Here is what this looks like:"
      ]
    },
    {
      "cell_type": "code",
      "metadata": {
        "id": "pMiw46NLwssK"
      },
      "source": [
        "def shear(sample, amount):\n",
        "  tform = AffineTransform(shear = amount) # create the shear transform\n",
        "  img = warp(sample, tform) # apply the shear\n",
        "  # this makes the digit off-center. Since all the images in the test set are centralized, we will do the same here\n",
        "  col = img.sum(0).nonzero()[0]\n",
        "  row = img.sum(1).nonzero()[0]\n",
        "  if len(col)>0 and len(row)>0:\n",
        "    xshift = int(sample.shape[0]/2 - (row[0]+row[-1])/2)\n",
        "    yshift = int(sample.shape[1]/2 - (col[0]+col[-1])/2)\n",
        "    img = np.roll(img, (xshift, yshift),(0,1))\n",
        "  return img"
      ],
      "execution_count": 56,
      "outputs": []
    },
    {
      "cell_type": "code",
      "metadata": {
        "id": "4_u_EYpmnABK",
        "colab": {
          "base_uri": "https://localhost:8080/",
          "height": 530
        },
        "outputId": "e2363b31-11fd-4531-d0ff-3ab1d2092e4f"
      },
      "source": [
        "sample = train_X[2]\n",
        "plt.imshow(sample, cmap='gray')\n",
        "plt.show()\n",
        "\n",
        "# apply shear\n",
        "plt.imshow(shear(sample, 0.4), cmap='gray')"
      ],
      "execution_count": 57,
      "outputs": [
        {
          "output_type": "display_data",
          "data": {
            "image/png": "[encoded data removed]",
            "text/plain": [
              "<Figure size 432x288 with 1 Axes>"
            ]
          },
          "metadata": {
            "needs_background": "light"
          }
        },
        {
          "output_type": "execute_result",
          "data": {
            "text/plain": [
              "<matplotlib.image.AxesImage at 0x7f4287c1f150>"
            ]
          },
          "metadata": {},
          "execution_count": 57
        },
        {
          "output_type": "display_data",
          "data": {
            "image/png": "[encoded data removed]",
            "text/plain": [
              "<Figure size 432x288 with 1 Axes>"
            ]
          },
          "metadata": {
            "needs_background": "light"
          }
        }
      ]
    },
    {
      "cell_type": "markdown",
      "metadata": {
        "id": "lGnWMoyM2pK4"
      },
      "source": [
        "Create an augmentation function which applies a random shear according to the constraint we provide:"
      ]
    },
    {
      "cell_type": "code",
      "metadata": {
        "id": "-qLDJyGytwP5"
      },
      "source": [
        "def augShear(sample, shearconstraint):\n",
        "  if shearconstraint==0:\n",
        "    return sample\n",
        "  if len(sample.shape)==2:\n",
        "    sample = np.expand_dims(sample, 0)  # make sure the sample is 3 dimensional\n",
        "  amt = rng.random(len(sample)) # generate random numbers for shear\n",
        "  amt = (amt-0.5)*shearconstraint # make the random shear constrained\n",
        "  nsample = sample.copy() # preallocate the augmented array to make it faster\n",
        "  for ii in range(len(sample)):\n",
        "    nsample[ii] = shear(sample[ii], amt[ii])\n",
        "  return np.squeeze(nsample) # take care if the input had only one sample."
      ],
      "execution_count": 58,
      "outputs": []
    },
    {
      "cell_type": "markdown",
      "metadata": {
        "id": "s6lQcWW93suJ"
      },
      "source": [
        "Let us do a grid search to find the best shear constraint."
      ]
    },
    {
      "cell_type": "code",
      "metadata": {
        "colab": {
          "base_uri": "https://localhost:8080/"
        },
        "id": "HAtjtnHGcDDa",
        "outputId": "95e3937e-a689-48cc-f0fb-e3140a19c679"
      },
      "source": [
        "xf=np.arange(0,2,.05)\n",
        "print(xf)"
      ],
      "execution_count": 60,
      "outputs": [
        {
          "output_type": "stream",
          "name": "stdout",
          "text": [
            "[0.   0.05 0.1  0.15 0.2  0.25 0.3  0.35 0.4  0.45 0.5  0.55 0.6  0.65\n",
            " 0.7  0.75 0.8  0.85 0.9  0.95 1.   1.05 1.1  1.15 1.2  1.25 1.3  1.35\n",
            " 1.4  1.45 1.5  1.55 1.6  1.65 1.7  1.75 1.8  1.85 1.9  1.95]\n"
          ]
        }
      ]
    },
    {
      "cell_type": "code",
      "metadata": {
        "id": "l_wrqPkrzBb_",
        "colab": {
          "base_uri": "https://localhost:8080/"
        },
        "outputId": "a912c327-eb4e-4fa6-f1ac-03482a0e861b"
      },
      "source": [
        "shearconstraints = [0, 0.2,0.4,0.6,0.8,1.0,1.2,1.4,1.6,1.8,2.0] # the values we want to test\n",
        "#shearconstraints=np.arange(0,2,.05)\n",
        "accuracies = np.zeros(len(shearconstraints), dtype=np.float) # we will save the values here\n",
        "\n",
        "for ii in range(len(shearconstraints)):\n",
        "  # create the augmented dataset\n",
        "  augdata = train_X # we include the original images also in the augmented dataset\n",
        "  auglabel = train_y\n",
        "  for jj in range(naugmentations):\n",
        "    augdata = np.concatenate((augdata, augShear(train_X, shearconstraints[ii]))) # concatenate the augmented data to the set\n",
        "    auglabel = np.concatenate((auglabel, train_y))  # the labels don't change when we augment\n",
        "\n",
        "  # check the test accuracy\n",
        "  testpred = NN(augdata, auglabel, test_X)\n",
        "  accuracies[ii] = Accuracy(test_y, testpred)\n",
        "  print('Accuracy after shear augmentation constrained by ',shearconstraints[ii], ' is ', accuracies[ii], flush=True)"
      ],
      "execution_count": 64,
      "outputs": [
        {
          "output_type": "stream",
          "name": "stdout",
          "text": [
            "Accuracy after shear augmentation constrained by  0  is  0.6472\n",
            "Accuracy after shear augmentation constrained by  0.2  is  0.6216\n",
            "Accuracy after shear augmentation constrained by  0.4  is  0.6289\n",
            "Accuracy after shear augmentation constrained by  0.6  is  0.6391\n",
            "Accuracy after shear augmentation constrained by  0.8  is  0.6459\n",
            "Accuracy after shear augmentation constrained by  1.0  is  0.6484\n",
            "Accuracy after shear augmentation constrained by  1.2  is  0.6407\n",
            "Accuracy after shear augmentation constrained by  1.4  is  0.6247\n",
            "Accuracy after shear augmentation constrained by  1.6  is  0.5916\n",
            "Accuracy after shear augmentation constrained by  1.8  is  0.6215\n",
            "Accuracy after shear augmentation constrained by  2.0  is  0.6074\n"
          ]
        }
      ]
    },
    {
      "cell_type": "code",
      "metadata": {
        "id": "EKaH-YR-zVnA",
        "colab": {
          "base_uri": "https://localhost:8080/",
          "height": 309
        },
        "outputId": "56f9ae93-ac83-4fea-d9f9-781af95a4a2e"
      },
      "source": [
        "fig = plt.figure()\n",
        "ax = fig.add_axes([0.1, 0.1, 0.8, 0.8]) # main axes\n",
        "# plot the variation of accuracy\n",
        "ax.plot(shearconstraints, accuracies)\n",
        "ax.set_xlabel('angle')\n",
        "ax.set_ylabel('accuracy')\n",
        "# plot the maximum accuracy\n",
        "maxind = np.argmax(accuracies)\n",
        "plt.scatter(shearconstraints[maxind], accuracies[maxind], c='red')"
      ],
      "execution_count": 65,
      "outputs": [
        {
          "output_type": "execute_result",
          "data": {
            "text/plain": [
              "<matplotlib.collections.PathCollection at 0x7f4287cdbed0>"
            ]
          },
          "metadata": {},
          "execution_count": 65
        },
        {
          "output_type": "display_data",
          "data": {
            "image/png": "[encoded data removed]",
            "text/plain": [
              "<Figure size 432x288 with 1 Axes>"
            ]
          },
          "metadata": {
            "needs_background": "light"
          }
        }
      ]
    },
    {
      "cell_type": "code",
      "metadata": {
        "colab": {
          "base_uri": "https://localhost:8080/"
        },
        "id": "NMRdPvpkehKB",
        "outputId": "520d74a3-beef-4114-86de-243899c32fee"
      },
      "source": [
        "#shearconstraints = [0, 0.2,0.4,0.6,0.8,1.0,1.2,1.4,1.6,1.8,2.0] # the values we want to test\n",
        "shearconstraints=np.arange(0,2,.05)\n",
        "accuracies = np.zeros(len(shearconstraints), dtype=np.float) # we will save the values here\n",
        "\n",
        "for ii in range(len(shearconstraints)):\n",
        "  # create the augmented dataset\n",
        "  augdata = train_X # we include the original images also in the augmented dataset\n",
        "  auglabel = train_y\n",
        "  for jj in range(naugmentations):\n",
        "    augdata = np.concatenate((augdata, augShear(train_X, shearconstraints[ii]))) # concatenate the augmented data to the set\n",
        "    auglabel = np.concatenate((auglabel, train_y))  # the labels don't change when we augment\n",
        "\n",
        "  # check the test accuracy\n",
        "  testpred = NN(augdata, auglabel, test_X)\n",
        "  accuracies[ii] = Accuracy(test_y, testpred)\n",
        "  print('Accuracy after shear augmentation constrained by ',shearconstraints[ii], ' is ', accuracies[ii], flush=True)"
      ],
      "execution_count": 66,
      "outputs": [
        {
          "output_type": "stream",
          "name": "stdout",
          "text": [
            "Accuracy after shear augmentation constrained by  0.0  is  0.6472\n",
            "Accuracy after shear augmentation constrained by  0.05  is  0.6141\n",
            "Accuracy after shear augmentation constrained by  0.1  is  0.609\n",
            "Accuracy after shear augmentation constrained by  0.15000000000000002  is  0.6172\n",
            "Accuracy after shear augmentation constrained by  0.2  is  0.6234\n",
            "Accuracy after shear augmentation constrained by  0.25  is  0.6266\n",
            "Accuracy after shear augmentation constrained by  0.30000000000000004  is  0.6183\n",
            "Accuracy after shear augmentation constrained by  0.35000000000000003  is  0.6312\n",
            "Accuracy after shear augmentation constrained by  0.4  is  0.6309\n",
            "Accuracy after shear augmentation constrained by  0.45  is  0.6343\n",
            "Accuracy after shear augmentation constrained by  0.5  is  0.6314\n",
            "Accuracy after shear augmentation constrained by  0.55  is  0.6391\n",
            "Accuracy after shear augmentation constrained by  0.6000000000000001  is  0.6452\n",
            "Accuracy after shear augmentation constrained by  0.65  is  0.6491\n",
            "Accuracy after shear augmentation constrained by  0.7000000000000001  is  0.6581\n",
            "Accuracy after shear augmentation constrained by  0.75  is  0.6342\n",
            "Accuracy after shear augmentation constrained by  0.8  is  0.6561\n",
            "Accuracy after shear augmentation constrained by  0.8500000000000001  is  0.6523\n",
            "Accuracy after shear augmentation constrained by  0.9  is  0.6429\n",
            "Accuracy after shear augmentation constrained by  0.9500000000000001  is  0.6502\n",
            "Accuracy after shear augmentation constrained by  1.0  is  0.6491\n",
            "Accuracy after shear augmentation constrained by  1.05  is  0.6407\n",
            "Accuracy after shear augmentation constrained by  1.1  is  0.636\n",
            "Accuracy after shear augmentation constrained by  1.1500000000000001  is  0.6437\n",
            "Accuracy after shear augmentation constrained by  1.2000000000000002  is  0.6361\n",
            "Accuracy after shear augmentation constrained by  1.25  is  0.6367\n",
            "Accuracy after shear augmentation constrained by  1.3  is  0.6379\n",
            "Accuracy after shear augmentation constrained by  1.35  is  0.6402\n",
            "Accuracy after shear augmentation constrained by  1.4000000000000001  is  0.6443\n",
            "Accuracy after shear augmentation constrained by  1.4500000000000002  is  0.6186\n",
            "Accuracy after shear augmentation constrained by  1.5  is  0.6037\n",
            "Accuracy after shear augmentation constrained by  1.55  is  0.6362\n",
            "Accuracy after shear augmentation constrained by  1.6  is  0.6389\n",
            "Accuracy after shear augmentation constrained by  1.6500000000000001  is  0.6245\n",
            "Accuracy after shear augmentation constrained by  1.7000000000000002  is  0.6189\n",
            "Accuracy after shear augmentation constrained by  1.75  is  0.6373\n",
            "Accuracy after shear augmentation constrained by  1.8  is  0.6314\n",
            "Accuracy after shear augmentation constrained by  1.85  is  0.6281\n",
            "Accuracy after shear augmentation constrained by  1.9000000000000001  is  0.5921\n",
            "Accuracy after shear augmentation constrained by  1.9500000000000002  is  0.5863\n"
          ]
        }
      ]
    },
    {
      "cell_type": "code",
      "metadata": {
        "colab": {
          "base_uri": "https://localhost:8080/",
          "height": 309
        },
        "id": "l0j7xmdDelNo",
        "outputId": "e5693fb0-a6d0-4ad8-afc9-0c24706604f4"
      },
      "source": [
        "fig = plt.figure()\n",
        "ax = fig.add_axes([0.1, 0.1, 0.8, 0.8]) # main axes\n",
        "# plot the variation of accuracy\n",
        "ax.plot(shearconstraints, accuracies)\n",
        "ax.set_xlabel('angle')\n",
        "ax.set_ylabel('accuracy')\n",
        "# plot the maximum accuracy\n",
        "maxind = np.argmax(accuracies)\n",
        "plt.scatter(shearconstraints[maxind], accuracies[maxind], c='red')"
      ],
      "execution_count": 67,
      "outputs": [
        {
          "output_type": "execute_result",
          "data": {
            "text/plain": [
              "<matplotlib.collections.PathCollection at 0x7f42881ea290>"
            ]
          },
          "metadata": {},
          "execution_count": 67
        },
        {
          "output_type": "display_data",
          "data": {
            "image/png": "[encoded data removed]",
            "text/plain": [
              "<Figure size 432x288 with 1 Axes>"
            ]
          },
          "metadata": {
            "needs_background": "light"
          }
        }
      ]
    },
    {
      "cell_type": "markdown",
      "metadata": {
        "id": "ccfdbRcQ7Zgg"
      },
      "source": [
        "We can do multiple augmentations at the same time. Here is a function to do both shear and rotation to the sample. In this case, we will have two hyperparameters. "
      ]
    },
    {
      "cell_type": "code",
      "metadata": {
        "id": "sh8S_Pxa0XCv"
      },
      "source": [
        "def augRotateShear(sample, angleconstraint, shearconstraint):\n",
        "  if len(sample.shape)==2:\n",
        "    sample = np.expand_dims(sample, 0)  # make sure the sample is 3 dimensional\n",
        "  amt = rng.random(len(sample)) # generate random numbers for shear\n",
        "  amt = (amt-0.5)*shearconstraint # make the random shear constrained\n",
        "  angle = rng.random(len(sample)) # generate random numbers for angles\n",
        "  angle = (angle-0.5)*angleconstraint # make the random angle constrained\n",
        "  nsample = sample.copy() # preallocate the augmented array to make it faster\n",
        "  for ii in range(len(sample)):\n",
        "    nsample[ii] = rotate(shear(sample[ii], amt[ii]), angle[ii]) # first apply shear, then rotate\n",
        "  return np.squeeze(nsample) # take care if the input had only one sample."
      ],
      "execution_count": 68,
      "outputs": []
    },
    {
      "cell_type": "markdown",
      "metadata": {
        "id": "OGKyjjNx-NQ4"
      },
      "source": [
        "Since we have two hyperparameters, we have to do the grid search on a 2 dimensional matrix. We can use our previous experience to inform where to search for the best hyperparameters. "
      ]
    },
    {
      "cell_type": "code",
      "metadata": {
        "id": "TJC45WRg0pOP",
        "colab": {
          "base_uri": "https://localhost:8080/"
        },
        "outputId": "006879db-413b-4c53-b99d-1244a35122e8"
      },
      "source": [
        "shearconstraints = [0, 0.2,0.4,0.6,0.8,1.0,1.2,1.4,1.6] # the values we want to test\n",
        "angleconstraints = [0,10,20,30,40,50,60] # the values we want to test\n",
        "hyp = cartesian((shearconstraints, angleconstraints)) # cartesian product of both\n",
        "\n",
        "accuracies = np.zeros(len(hyp), dtype=np.float) # we will save the values here\n",
        "\n",
        "for ii in range(len(hyp)):\n",
        "  # create the augmented dataset\n",
        "  augdata = train_X # we include the original images also in the augmented dataset\n",
        "  auglabel = train_y\n",
        "  for jj in range(naugmentations):\n",
        "    augdata = np.concatenate((augdata, augRotateShear(train_X, hyp[ii][0], hyp[ii][1]))) # concatenate the augmented data to the set\n",
        "    auglabel = np.concatenate((auglabel, train_y))  # the labels don't change when we augment\n",
        "\n",
        "  # check the test accuracy\n",
        "  testpred = NN(augdata, auglabel, test_X)\n",
        "  accuracies[ii] = Accuracy(test_y, testpred)\n",
        "  print('Accuracy after augmentation shear:',hyp[ii][0], 'angle:',hyp[ii][1], ' is ', accuracies[ii], flush=True)"
      ],
      "execution_count": 69,
      "outputs": [
        {
          "output_type": "stream",
          "name": "stdout",
          "text": [
            "Accuracy after augmentation shear: 0.0 angle: 0.0  is  0.6332\n",
            "Accuracy after augmentation shear: 0.0 angle: 10.0  is  0.5988\n",
            "Accuracy after augmentation shear: 0.0 angle: 20.0  is  0.5785\n",
            "Accuracy after augmentation shear: 0.0 angle: 30.0  is  0.6136\n",
            "Accuracy after augmentation shear: 0.0 angle: 40.0  is  0.623\n",
            "Accuracy after augmentation shear: 0.0 angle: 50.0  is  0.6081\n",
            "Accuracy after augmentation shear: 0.0 angle: 60.0  is  0.6011\n",
            "Accuracy after augmentation shear: 0.2 angle: 0.0  is  0.6331\n",
            "Accuracy after augmentation shear: 0.2 angle: 10.0  is  0.6046\n",
            "Accuracy after augmentation shear: 0.2 angle: 20.0  is  0.596\n",
            "Accuracy after augmentation shear: 0.2 angle: 30.0  is  0.5985\n",
            "Accuracy after augmentation shear: 0.2 angle: 40.0  is  0.5943\n",
            "Accuracy after augmentation shear: 0.2 angle: 50.0  is  0.6096\n",
            "Accuracy after augmentation shear: 0.2 angle: 60.0  is  0.6208\n",
            "Accuracy after augmentation shear: 0.4 angle: 0.0  is  0.6344\n",
            "Accuracy after augmentation shear: 0.4 angle: 10.0  is  0.6102\n",
            "Accuracy after augmentation shear: 0.4 angle: 20.0  is  0.5921\n",
            "Accuracy after augmentation shear: 0.4 angle: 30.0  is  0.5977\n",
            "Accuracy after augmentation shear: 0.4 angle: 40.0  is  0.6216\n",
            "Accuracy after augmentation shear: 0.4 angle: 50.0  is  0.6146\n",
            "Accuracy after augmentation shear: 0.4 angle: 60.0  is  0.5723\n",
            "Accuracy after augmentation shear: 0.6 angle: 0.0  is  0.6342\n",
            "Accuracy after augmentation shear: 0.6 angle: 10.0  is  0.6095\n",
            "Accuracy after augmentation shear: 0.6 angle: 20.0  is  0.5803\n",
            "Accuracy after augmentation shear: 0.6 angle: 30.0  is  0.5882\n",
            "Accuracy after augmentation shear: 0.6 angle: 40.0  is  0.5956\n",
            "Accuracy after augmentation shear: 0.6 angle: 50.0  is  0.5988\n",
            "Accuracy after augmentation shear: 0.6 angle: 60.0  is  0.6082\n",
            "Accuracy after augmentation shear: 0.8 angle: 0.0  is  0.6346\n",
            "Accuracy after augmentation shear: 0.8 angle: 10.0  is  0.5957\n",
            "Accuracy after augmentation shear: 0.8 angle: 20.0  is  0.6004\n",
            "Accuracy after augmentation shear: 0.8 angle: 30.0  is  0.6031\n",
            "Accuracy after augmentation shear: 0.8 angle: 40.0  is  0.595\n",
            "Accuracy after augmentation shear: 0.8 angle: 50.0  is  0.6005\n",
            "Accuracy after augmentation shear: 0.8 angle: 60.0  is  0.5912\n",
            "Accuracy after augmentation shear: 1.0 angle: 0.0  is  0.6346\n",
            "Accuracy after augmentation shear: 1.0 angle: 10.0  is  0.596\n",
            "Accuracy after augmentation shear: 1.0 angle: 20.0  is  0.5982\n",
            "Accuracy after augmentation shear: 1.0 angle: 30.0  is  0.6178\n",
            "Accuracy after augmentation shear: 1.0 angle: 40.0  is  0.5826\n",
            "Accuracy after augmentation shear: 1.0 angle: 50.0  is  0.6003\n",
            "Accuracy after augmentation shear: 1.0 angle: 60.0  is  0.5813\n",
            "Accuracy after augmentation shear: 1.2 angle: 0.0  is  0.634\n",
            "Accuracy after augmentation shear: 1.2 angle: 10.0  is  0.6089\n",
            "Accuracy after augmentation shear: 1.2 angle: 20.0  is  0.601\n",
            "Accuracy after augmentation shear: 1.2 angle: 30.0  is  0.6095\n",
            "Accuracy after augmentation shear: 1.2 angle: 40.0  is  0.5873\n",
            "Accuracy after augmentation shear: 1.2 angle: 50.0  is  0.5929\n",
            "Accuracy after augmentation shear: 1.2 angle: 60.0  is  0.5885\n",
            "Accuracy after augmentation shear: 1.4 angle: 0.0  is  0.6348\n",
            "Accuracy after augmentation shear: 1.4 angle: 10.0  is  0.6151\n",
            "Accuracy after augmentation shear: 1.4 angle: 20.0  is  0.6091\n",
            "Accuracy after augmentation shear: 1.4 angle: 30.0  is  0.5854\n",
            "Accuracy after augmentation shear: 1.4 angle: 40.0  is  0.6065\n",
            "Accuracy after augmentation shear: 1.4 angle: 50.0  is  0.5756\n",
            "Accuracy after augmentation shear: 1.4 angle: 60.0  is  0.5943\n",
            "Accuracy after augmentation shear: 1.6 angle: 0.0  is  0.6347\n",
            "Accuracy after augmentation shear: 1.6 angle: 10.0  is  0.5929\n",
            "Accuracy after augmentation shear: 1.6 angle: 20.0  is  0.6078\n",
            "Accuracy after augmentation shear: 1.6 angle: 30.0  is  0.611\n",
            "Accuracy after augmentation shear: 1.6 angle: 40.0  is  0.6101\n",
            "Accuracy after augmentation shear: 1.6 angle: 50.0  is  0.5881\n",
            "Accuracy after augmentation shear: 1.6 angle: 60.0  is  0.6015\n"
          ]
        }
      ]
    },
    {
      "cell_type": "markdown",
      "metadata": {
        "id": "PT6CnvSDEX7a"
      },
      "source": [
        "Let us plot it two dimensionally to see which is the best value for the hyperparameters:"
      ]
    },
    {
      "cell_type": "code",
      "metadata": {
        "id": "jD2i7msI_cLd",
        "colab": {
          "base_uri": "https://localhost:8080/",
          "height": 309
        },
        "outputId": "9624b091-d9f1-46c1-c8ea-9825ee77014b"
      },
      "source": [
        "fig = plt.figure()\n",
        "ax = fig.add_axes([0.1, 0.1, 0.8, 0.8]) # main axes\n",
        "im = ax.imshow(accuracies.reshape((len(shearconstraints), len(angleconstraints))), cmap='inferno') \n",
        "ax.set_xlabel('angle')\n",
        "ax.set_ylabel('shear')\n",
        "ax.set_xticks(np.arange(len(angleconstraints)));\n",
        "ax.set_xticklabels(angleconstraints);\n",
        "ax.set_yticks(np.arange(len(shearconstraints)));\n",
        "ax.set_yticklabels(shearconstraints);\n",
        "plt.colorbar(im)"
      ],
      "execution_count": 70,
      "outputs": [
        {
          "output_type": "execute_result",
          "data": {
            "text/plain": [
              "<matplotlib.colorbar.Colorbar at 0x7f428845ab10>"
            ]
          },
          "metadata": {},
          "execution_count": 70
        },
        {
          "output_type": "display_data",
          "data": {
            "image/png": "[encoded data removed]",
            "text/plain": [
              "<Figure size 432x288 with 2 Axes>"
            ]
          },
          "metadata": {
            "needs_background": "light"
          }
        }
      ]
    },
    {
      "cell_type": "code",
      "metadata": {
        "colab": {
          "base_uri": "https://localhost:8080/"
        },
        "id": "XHAh1TC6kgT3",
        "outputId": "555cf74b-535c-4feb-9251-568e7563b07f"
      },
      "source": [
        "#shearconstraints = [0, 0.2,0.4,0.6,0.8,1.0,1.2,1.4,1.6] # the values we want to test\n",
        "#angleconstraints = [0,10,20,30,40,50,60] # the values we want to test\n",
        "shearconstraints = np.arange(25,30,.5)\n",
        "angleconstraints = np.arange(.6,.8,.05)\n",
        "hyp = cartesian((shearconstraints, angleconstraints)) # cartesian product of both\n",
        "\n",
        "accuracies = np.zeros(len(hyp), dtype=np.float) # we will save the values here\n",
        "\n",
        "for ii in range(len(hyp)):\n",
        "  # create the augmented dataset\n",
        "  augdata = train_X # we include the original images also in the augmented dataset\n",
        "  auglabel = train_y\n",
        "  for jj in range(naugmentations):\n",
        "    augdata = np.concatenate((augdata, augRotateShear(train_X, hyp[ii][0], hyp[ii][1]))) # concatenate the augmented data to the set\n",
        "    auglabel = np.concatenate((auglabel, train_y))  # the labels don't change when we augment\n",
        "\n",
        "  # check the test accuracy\n",
        "  testpred = NN(augdata, auglabel, test_X)\n",
        "  accuracies[ii] = Accuracy(test_y, testpred)\n",
        "  print('Accuracy after augmentation shear:',hyp[ii][0], 'angle:',hyp[ii][1], ' is ', accuracies[ii], flush=True)"
      ],
      "execution_count": 71,
      "outputs": [
        {
          "output_type": "stream",
          "name": "stdout",
          "text": [
            "Accuracy after augmentation shear: 25.0 angle: 0.6  is  0.6322\n",
            "Accuracy after augmentation shear: 25.0 angle: 0.65  is  0.6382\n",
            "Accuracy after augmentation shear: 25.0 angle: 0.7000000000000001  is  0.6443\n",
            "Accuracy after augmentation shear: 25.0 angle: 0.7500000000000001  is  0.6314\n",
            "Accuracy after augmentation shear: 25.0 angle: 0.8000000000000002  is  0.6328\n",
            "Accuracy after augmentation shear: 25.5 angle: 0.6  is  0.6132\n",
            "Accuracy after augmentation shear: 25.5 angle: 0.65  is  0.6516\n",
            "Accuracy after augmentation shear: 25.5 angle: 0.7000000000000001  is  0.6399\n",
            "Accuracy after augmentation shear: 25.5 angle: 0.7500000000000001  is  0.6432\n",
            "Accuracy after augmentation shear: 25.5 angle: 0.8000000000000002  is  0.6246\n",
            "Accuracy after augmentation shear: 26.0 angle: 0.6  is  0.6426\n",
            "Accuracy after augmentation shear: 26.0 angle: 0.65  is  0.6159\n",
            "Accuracy after augmentation shear: 26.0 angle: 0.7000000000000001  is  0.6258\n",
            "Accuracy after augmentation shear: 26.0 angle: 0.7500000000000001  is  0.6565\n",
            "Accuracy after augmentation shear: 26.0 angle: 0.8000000000000002  is  0.6447\n",
            "Accuracy after augmentation shear: 26.5 angle: 0.6  is  0.6316\n",
            "Accuracy after augmentation shear: 26.5 angle: 0.65  is  0.6404\n",
            "Accuracy after augmentation shear: 26.5 angle: 0.7000000000000001  is  0.6353\n",
            "Accuracy after augmentation shear: 26.5 angle: 0.7500000000000001  is  0.6259\n",
            "Accuracy after augmentation shear: 26.5 angle: 0.8000000000000002  is  0.6532\n",
            "Accuracy after augmentation shear: 27.0 angle: 0.6  is  0.6322\n",
            "Accuracy after augmentation shear: 27.0 angle: 0.65  is  0.6178\n",
            "Accuracy after augmentation shear: 27.0 angle: 0.7000000000000001  is  0.6285\n",
            "Accuracy after augmentation shear: 27.0 angle: 0.7500000000000001  is  0.6316\n",
            "Accuracy after augmentation shear: 27.0 angle: 0.8000000000000002  is  0.6378\n",
            "Accuracy after augmentation shear: 27.5 angle: 0.6  is  0.6297\n",
            "Accuracy after augmentation shear: 27.5 angle: 0.65  is  0.6526\n",
            "Accuracy after augmentation shear: 27.5 angle: 0.7000000000000001  is  0.6149\n",
            "Accuracy after augmentation shear: 27.5 angle: 0.7500000000000001  is  0.6598\n",
            "Accuracy after augmentation shear: 27.5 angle: 0.8000000000000002  is  0.6362\n",
            "Accuracy after augmentation shear: 28.0 angle: 0.6  is  0.6034\n",
            "Accuracy after augmentation shear: 28.0 angle: 0.65  is  0.6364\n",
            "Accuracy after augmentation shear: 28.0 angle: 0.7000000000000001  is  0.6319\n",
            "Accuracy after augmentation shear: 28.0 angle: 0.7500000000000001  is  0.6312\n",
            "Accuracy after augmentation shear: 28.0 angle: 0.8000000000000002  is  0.6258\n",
            "Accuracy after augmentation shear: 28.5 angle: 0.6  is  0.6311\n",
            "Accuracy after augmentation shear: 28.5 angle: 0.65  is  0.6198\n",
            "Accuracy after augmentation shear: 28.5 angle: 0.7000000000000001  is  0.6281\n",
            "Accuracy after augmentation shear: 28.5 angle: 0.7500000000000001  is  0.6127\n",
            "Accuracy after augmentation shear: 28.5 angle: 0.8000000000000002  is  0.6236\n",
            "Accuracy after augmentation shear: 29.0 angle: 0.6  is  0.6254\n",
            "Accuracy after augmentation shear: 29.0 angle: 0.65  is  0.6223\n",
            "Accuracy after augmentation shear: 29.0 angle: 0.7000000000000001  is  0.6387\n",
            "Accuracy after augmentation shear: 29.0 angle: 0.7500000000000001  is  0.6406\n",
            "Accuracy after augmentation shear: 29.0 angle: 0.8000000000000002  is  0.6333\n",
            "Accuracy after augmentation shear: 29.5 angle: 0.6  is  0.6074\n",
            "Accuracy after augmentation shear: 29.5 angle: 0.65  is  0.6261\n",
            "Accuracy after augmentation shear: 29.5 angle: 0.7000000000000001  is  0.6334\n",
            "Accuracy after augmentation shear: 29.5 angle: 0.7500000000000001  is  0.6297\n",
            "Accuracy after augmentation shear: 29.5 angle: 0.8000000000000002  is  0.6558\n"
          ]
        }
      ]
    },
    {
      "cell_type": "code",
      "metadata": {
        "colab": {
          "base_uri": "https://localhost:8080/",
          "height": 309
        },
        "id": "NKAGkRf9kiaW",
        "outputId": "8b7fdd93-4688-4b22-ccb9-3c70ef271b8f"
      },
      "source": [
        "fig = plt.figure()\n",
        "ax = fig.add_axes([0.1, 0.1, 0.8, 0.8]) # main axes\n",
        "im = ax.imshow(accuracies.reshape((len(shearconstraints), len(angleconstraints))), cmap='inferno') \n",
        "ax.set_xlabel('angle')\n",
        "ax.set_ylabel('shear')\n",
        "ax.set_xticks(np.arange(len(angleconstraints)));\n",
        "ax.set_xticklabels(angleconstraints);\n",
        "ax.set_yticks(np.arange(len(shearconstraints)));\n",
        "ax.set_yticklabels(shearconstraints);\n",
        "plt.colorbar(im)"
      ],
      "execution_count": 72,
      "outputs": [
        {
          "output_type": "execute_result",
          "data": {
            "text/plain": [
              "<matplotlib.colorbar.Colorbar at 0x7f4288577890>"
            ]
          },
          "metadata": {},
          "execution_count": 72
        },
        {
          "output_type": "display_data",
          "data": {
            "image/png": "[encoded data removed]",
            "text/plain": [
              "<Figure size 432x288 with 2 Axes>"
            ]
          },
          "metadata": {
            "needs_background": "light"
          }
        }
      ]
    },
    {
      "cell_type": "code",
      "metadata": {
        "id": "WAH4vAIVo2vu",
        "outputId": "9aab904c-6784-421b-a503-a5fad7417f48",
        "colab": {
          "base_uri": "https://localhost:8080/"
        }
      },
      "source": [
        "print(len(augdata))"
      ],
      "execution_count": 73,
      "outputs": [
        {
          "output_type": "stream",
          "name": "stdout",
          "text": [
            "300\n"
          ]
        }
      ]
    },
    {
      "cell_type": "markdown",
      "metadata": {
        "id": "OHcZWJiFJDMh"
      },
      "source": [
        "It seems that rotation and shear don't mix! The best accuracy is when rotation is zero."
      ]
    },
    {
      "cell_type": "markdown",
      "metadata": {
        "id": "PAasQo1C3x4A"
      },
      "source": [
        "## Questions\n",
        "Try these questions for better understanding. You may not be able to solve all of them. \n",
        "1. What is the best value for angle constraint and shear constraint you got? How much did the accuracy improve as compared to not using augmentations?\n",
        "\n",
        "\n",
        "      Ans:  \n",
        "      **Best Values Noted:**\n",
        "      Angle: 28 Deg - 0.6906\n",
        "      Shear: 0.70   - 0.6581   \n",
        "\n",
        "      **Improvement in Accuracy Note:**\n",
        "      Angle: 0.6906 - 0.6722: 0.0184\n",
        "      Shear: 0.6581 - 0.6484: 0.0097\n",
        "\n",
        "2. Can you increase the accuracy by increasing the number of augmentations from each sample?\n",
        "\n",
        "\n",
        "      Ans: Yes.\n",
        "      Accuracy with augmentation shear:  1.4 & angle: 0.0  is  0.6348\n",
        "      Accuracy with augmentation shear: 27.5 & angle: 0.75 is  0.6598\n",
        "\n",
        "3. Try implementing a few augmentations of your own and experimenting with them. A good reference is <a href=https://www.analyticsvidhya.com/blog/2019/12/image-augmentation-deep-learning-pytorch/>here. </a>\n",
        "4. Try combining various augmentations. What is the highest accuracy you can get? What is the smallest training dataset you can take and still get accuracy above 50%?\n",
        "\n",
        "Whenever you do any experiment, a good practice is to vary the hyperparameters gradually and create a graph of your results, like we did for gridsearch. "
      ]
    },
    {
      "cell_type": "code",
      "metadata": {
        "id": "mCzpwluJ46pI"
      },
      "source": [
        ""
      ],
      "execution_count": null,
      "outputs": []
    }
  ]
}